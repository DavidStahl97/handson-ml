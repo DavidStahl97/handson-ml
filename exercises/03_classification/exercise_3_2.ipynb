{
 "metadata": {
  "language_info": {
   "codemirror_mode": {
    "name": "ipython",
    "version": 3
   },
   "file_extension": ".py",
   "mimetype": "text/x-python",
   "name": "python",
   "nbconvert_exporter": "python",
   "pygments_lexer": "ipython3",
   "version": "3.8.5-final"
  },
  "orig_nbformat": 2,
  "kernelspec": {
   "name": "python3",
   "display_name": "Python 3"
  }
 },
 "nbformat": 4,
 "nbformat_minor": 2,
 "cells": [
  {
   "cell_type": "code",
   "execution_count": 2,
   "metadata": {},
   "outputs": [],
   "source": [
    "from sklearn.datasets import fetch_openml\n",
    "import numpy as np\n",
    "import matplotlib.pyplot as plt\n",
    "import matplotlib as mpl"
   ]
  },
  {
   "source": [
    "# MNIST"
   ],
   "cell_type": "markdown",
   "metadata": {}
  },
  {
   "cell_type": "code",
   "execution_count": 3,
   "metadata": {},
   "outputs": [],
   "source": [
    "def sort_by_target(mnist):\n",
    "    reorder_train = np.array(sorted([(target, i) for i, target in enumerate(mnist.target[:60000])]))[:, 1]\n",
    "    reorder_test = np.array(sorted([(target, i) for i, target in enumerate(mnist.target[60000:])]))[:, 1]\n",
    "    mnist.data[:60000] = mnist.data[reorder_train]\n",
    "    mnist.target[:60000] = mnist.target[reorder_train]\n",
    "    mnist.data[60000:] = mnist.data[reorder_test + 60000]\n",
    "    mnist.target[60000:] = mnist.target[reorder_test + 60000]\n",
    "\n",
    "mnist = fetch_openml('mnist_784', version=1, cache=True)\n",
    "mnist.target = mnist.target.astype(np.int8) # fetch_openml() returns targets as strings"
   ]
  },
  {
   "cell_type": "code",
   "execution_count": 4,
   "metadata": {},
   "outputs": [
    {
     "output_type": "execute_result",
     "data": {
      "text/plain": [
       "(70000, 784)"
      ]
     },
     "metadata": {},
     "execution_count": 4
    }
   ],
   "source": [
    "X, y = mnist[\"data\"], mnist[\"target\"]\n",
    "X.shape"
   ]
  },
  {
   "cell_type": "code",
   "execution_count": 5,
   "metadata": {},
   "outputs": [
    {
     "output_type": "execute_result",
     "data": {
      "text/plain": [
       "(70000,)"
      ]
     },
     "metadata": {},
     "execution_count": 5
    }
   ],
   "source": [
    "y.shape"
   ]
  },
  {
   "cell_type": "code",
   "execution_count": 6,
   "metadata": {},
   "outputs": [],
   "source": [
    "X_train, X_test, y_train, y_test = X[:60000], X[60000:], y[:60000], y[60000:]"
   ]
  },
  {
   "source": [
    "# Training Set Expansion"
   ],
   "cell_type": "markdown",
   "metadata": {}
  },
  {
   "cell_type": "code",
   "execution_count": 7,
   "metadata": {},
   "outputs": [],
   "source": [
    "from scipy.ndimage.interpolation import shift\n",
    "\n",
    "def shift_image(image, dx, dy):\n",
    "    image = image.reshape((28, 28))\n",
    "    shifted_image = shift(image, [dx, dy], cval=0, mode=\"constant\")\n",
    "    return shifted_image, shifted_image.reshape([-1])"
   ]
  },
  {
   "cell_type": "code",
   "execution_count": 8,
   "metadata": {},
   "outputs": [],
   "source": [
    "def show_image(image, dx, dy):        \n",
    "    reshaped_shifted_image, shifted_image = shift_image(image, dx, dy)\n",
    "\n",
    "    plt.imshow(reshaped_shifted_image, cmap = mpl.cm.binary,\n",
    "            interpolation=\"nearest\")\n",
    "    plt.axis(\"off\")\n",
    "    plt.show()"
   ]
  },
  {
   "cell_type": "code",
   "execution_count": 9,
   "metadata": {},
   "outputs": [],
   "source": [
    "some_digit = X[36000]"
   ]
  },
  {
   "cell_type": "code",
   "execution_count": 10,
   "metadata": {},
   "outputs": [
    {
     "output_type": "display_data",
     "data": {
      "text/plain": "<Figure size 432x288 with 1 Axes>",
      "image/svg+xml": "<?xml version=\"1.0\" encoding=\"utf-8\" standalone=\"no\"?>\r\n<!DOCTYPE svg PUBLIC \"-//W3C//DTD SVG 1.1//EN\"\r\n  \"http://www.w3.org/Graphics/SVG/1.1/DTD/svg11.dtd\">\r\n<!-- Created with matplotlib (https://matplotlib.org/) -->\r\n<svg height=\"231.84pt\" version=\"1.1\" viewBox=\"0 0 231.84 231.84\" width=\"231.84pt\" xmlns=\"http://www.w3.org/2000/svg\" xmlns:xlink=\"http://www.w3.org/1999/xlink\">\r\n <metadata>\r\n  <rdf:RDF xmlns:cc=\"http://creativecommons.org/ns#\" xmlns:dc=\"http://purl.org/dc/elements/1.1/\" xmlns:rdf=\"http://www.w3.org/1999/02/22-rdf-syntax-ns#\">\r\n   <cc:Work>\r\n    <dc:type rdf:resource=\"http://purl.org/dc/dcmitype/StillImage\"/>\r\n    <dc:date>2020-11-06T12:37:30.327826</dc:date>\r\n    <dc:format>image/svg+xml</dc:format>\r\n    <dc:creator>\r\n     <cc:Agent>\r\n      <dc:title>Matplotlib v3.3.2, https://matplotlib.org/</dc:title>\r\n     </cc:Agent>\r\n    </dc:creator>\r\n   </cc:Work>\r\n  </rdf:RDF>\r\n </metadata>\r\n <defs>\r\n  <style type=\"text/css\">*{stroke-linecap:butt;stroke-linejoin:round;}</style>\r\n </defs>\r\n <g id=\"figure_1\">\r\n  <g id=\"patch_1\">\r\n   <path d=\"M 0 231.84 \r\nL 231.84 231.84 \r\nL 231.84 0 \r\nL 0 0 \r\nz\r\n\" style=\"fill:none;\"/>\r\n  </g>\r\n  <g id=\"axes_1\">\r\n   <g clip-path=\"url(#pfbd19577db)\">\r\n    <image height=\"218\" id=\"imagecd5cd8bac7\" transform=\"scale(1 -1)translate(0 -218)\" width=\"218\" x=\"7.2\" xlink:href=\"data:image/png;base64,\r\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\" y=\"-6.64\"/>\r\n   </g>\r\n  </g>\r\n </g>\r\n <defs>\r\n  <clipPath id=\"pfbd19577db\">\r\n   <rect height=\"217.44\" width=\"217.44\" x=\"7.2\" y=\"7.2\"/>\r\n  </clipPath>\r\n </defs>\r\n</svg>\r\n",
      "image/png": "[encoded data removed]"
     },
     "metadata": {
      "needs_background": "light"
     }
    },
    {
     "output_type": "display_data",
     "data": {
      "text/plain": "<Figure size 432x288 with 1 Axes>",
      "image/svg+xml": "<?xml version=\"1.0\" encoding=\"utf-8\" standalone=\"no\"?>\r\n<!DOCTYPE svg PUBLIC \"-//W3C//DTD SVG 1.1//EN\"\r\n  \"http://www.w3.org/Graphics/SVG/1.1/DTD/svg11.dtd\">\r\n<!-- Created with matplotlib (https://matplotlib.org/) -->\r\n<svg height=\"231.84pt\" version=\"1.1\" viewBox=\"0 0 231.84 231.84\" width=\"231.84pt\" xmlns=\"http://www.w3.org/2000/svg\" xmlns:xlink=\"http://www.w3.org/1999/xlink\">\r\n <metadata>\r\n  <rdf:RDF xmlns:cc=\"http://creativecommons.org/ns#\" xmlns:dc=\"http://purl.org/dc/elements/1.1/\" xmlns:rdf=\"http://www.w3.org/1999/02/22-rdf-syntax-ns#\">\r\n   <cc:Work>\r\n    <dc:type rdf:resource=\"http://purl.org/dc/dcmitype/StillImage\"/>\r\n    <dc:date>2020-11-06T12:37:30.413323</dc:date>\r\n    <dc:format>image/svg+xml</dc:format>\r\n    <dc:creator>\r\n     <cc:Agent>\r\n      <dc:title>Matplotlib v3.3.2, https://matplotlib.org/</dc:title>\r\n     </cc:Agent>\r\n    </dc:creator>\r\n   </cc:Work>\r\n  </rdf:RDF>\r\n </metadata>\r\n <defs>\r\n  <style type=\"text/css\">*{stroke-linecap:butt;stroke-linejoin:round;}</style>\r\n </defs>\r\n <g id=\"figure_1\">\r\n  <g id=\"patch_1\">\r\n   <path d=\"M 0 231.84 \r\nL 231.84 231.84 \r\nL 231.84 0 \r\nL 0 0 \r\nz\r\n\" style=\"fill:none;\"/>\r\n  </g>\r\n  <g id=\"axes_1\">\r\n   <g clip-path=\"url(#p2467181d50)\">\r\n    <image height=\"218\" id=\"image355caaca1c\" transform=\"scale(1 -1)translate(0 -218)\" width=\"218\" x=\"7.2\" xlink:href=\"data:image/png;base64,\r\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\" y=\"-6.64\"/>\r\n   </g>\r\n  </g>\r\n </g>\r\n <defs>\r\n  <clipPath id=\"p2467181d50\">\r\n   <rect height=\"217.44\" width=\"217.44\" x=\"7.2\" y=\"7.2\"/>\r\n  </clipPath>\r\n </defs>\r\n</svg>\r\n",
      "image/png": "[encoded data removed]"
     },
     "metadata": {
      "needs_background": "light"
     }
    },
    {
     "output_type": "display_data",
     "data": {
      "text/plain": "<Figure size 432x288 with 1 Axes>",
      "image/svg+xml": "<?xml version=\"1.0\" encoding=\"utf-8\" standalone=\"no\"?>\r\n<!DOCTYPE svg PUBLIC \"-//W3C//DTD SVG 1.1//EN\"\r\n  \"http://www.w3.org/Graphics/SVG/1.1/DTD/svg11.dtd\">\r\n<!-- Created with matplotlib (https://matplotlib.org/) -->\r\n<svg height=\"231.84pt\" version=\"1.1\" viewBox=\"0 0 231.84 231.84\" width=\"231.84pt\" xmlns=\"http://www.w3.org/2000/svg\" xmlns:xlink=\"http://www.w3.org/1999/xlink\">\r\n <metadata>\r\n  <rdf:RDF xmlns:cc=\"http://creativecommons.org/ns#\" xmlns:dc=\"http://purl.org/dc/elements/1.1/\" xmlns:rdf=\"http://www.w3.org/1999/02/22-rdf-syntax-ns#\">\r\n   <cc:Work>\r\n    <dc:type rdf:resource=\"http://purl.org/dc/dcmitype/StillImage\"/>\r\n    <dc:date>2020-11-06T12:37:30.484826</dc:date>\r\n    <dc:format>image/svg+xml</dc:format>\r\n    <dc:creator>\r\n     <cc:Agent>\r\n      <dc:title>Matplotlib v3.3.2, https://matplotlib.org/</dc:title>\r\n     </cc:Agent>\r\n    </dc:creator>\r\n   </cc:Work>\r\n  </rdf:RDF>\r\n </metadata>\r\n <defs>\r\n  <style type=\"text/css\">*{stroke-linecap:butt;stroke-linejoin:round;}</style>\r\n </defs>\r\n <g id=\"figure_1\">\r\n  <g id=\"patch_1\">\r\n   <path d=\"M 0 231.84 \r\nL 231.84 231.84 \r\nL 231.84 0 \r\nL 0 0 \r\nz\r\n\" style=\"fill:none;\"/>\r\n  </g>\r\n  <g id=\"axes_1\">\r\n   <g clip-path=\"url(#p66fcf6d1d7)\">\r\n    <image height=\"218\" id=\"image3cb4dc81cf\" transform=\"scale(1 -1)translate(0 -218)\" width=\"218\" x=\"7.2\" xlink:href=\"data:image/png;base64,\r\niVBORw0KGgoAAAANSUhEUgAAANoAAADaCAYAAADAHVzbAAAFUklEQVR4nO3dsUtVfRzHcXu6hlBgtdR/4NJQQ9TSFBFE0epk0tBYg0RjEQTW0FpBQ7XUEASBk0mBYW0VgU2BQU4GTQ11DZ856Hx98lw/+nRfr/XDueckvPmBh2tbVlZWVgb4Y91ut9xv377duF24cKHVvY8cOVLuMzMz5d7pdFrdnz/3z0Y/APQDoUGA0CBAaBAgNAgQGgQIDQK8UFmjwcHBct+/f/+ar13tHd3s7Gy5T01Nlfvp06fLnd5zokGA0CBAaBAgNAgQGgQIDQKEBgFbfB8t7+7du+V+7ty5Vp8/PDxc7p8/f27ctm/f3ure/J4TDQKEBgFCgwChQYDQIEBoEODX+xtgcXGx3A8cOFDuX758aXX/e/fuNW5jY2OtPpvfc6JBgNAgQGgQIDQIEBoECA0ChAYB3qNtQlevXi33K1eutPr8w4cPN24vXrwor922bVure/crJxoECA0ChAYBQoMAoUGA0CBAaBDgPdoavXnzptzfv3/fuI2OjpbXrvauat++feU+Pz9f7pUPHz6U+8jIyJo/u5850SBAaBAgNAgQGgQIDQKEBgFCg4C+fY+2vLxc7idOnCj358+fl/vPnz8bt8HBwfLakydPlvtq77ImJyfLvXLx4sVyv379+po/u5850SBAaBAgNAgQGgQIDQKEBgFCg4DORj/ARrl//365P3v2bN3u3e12y/3Jkyflvp7fCWvzXTaaOdEgQGgQIDQIEBoECA0ChAYBffs1maWlpXLfs2dP6Ek2l9X+1N3s7Gy5Hzx4sJeP89dwokGA0CBAaBAgNAgQGgQIDQKEBgF9+zWZXbt2lfvRo0fLfWZmZt3uffbs2XK/efNmubd5Nfrjx49y//TpU7l7j/Z7TjQIEBoECA0ChAYBQoMAoUGA0CCgb9+jdTr1P321d1kvX74s9+/fvzdu1X/pNDAwMDA0NFTujx49KvdLly6V+8LCQrnTe040CBAaBAgNAoQGAUKDAKFBgNAgoG//rmNbly9fLvcbN240btU7tv9idHS03Hfu3Fnur1+/btzevn1bXjsxMVHuk5OT5b5169Zy/1s50SBAaBAgNAgQGgQIDQKEBgF+vb9OHj582LiNj4+X13a73R4/za+OHTvWuE1PT7f67FOnTpX7nTt3Gre9e/e2uvdm5kSDAKFBgNAgQGgQIDQIEBoECA0CvEfbAB8/fiz3M2fOlPvc3FwvHydqeHi4cVvt57J79+5eP06MEw0ChAYBQoMAoUGA0CBAaBAgNAjwHu1/aGxsrNynpqbK/evXr718nJ559epVuR86dCj0JL3nRIMAoUGA0CBAaBAgNAgQGgQIDQI6G/0A/LkHDx6U+7dv38r92rVrjdvTp0/La+fn58u9jXfv3pW792hASWgQIDQIEBoECA0ChAYBQoMA30fjF8vLy+V+/vz5cr9161a5Hz9+vHF7/Phxee2OHTvKfTNzokGA0CBAaBAgNAgQGgQIDQL8eh8CnGgQIDQIEBoECA0ChAYBQoMAoUGA0CBAaBAgNAgQGgQIDQKEBgFCgwChQYDQIEBoECA0CBAaBAgNAoQGAUKDAKFBgNAgQGgQIDQIEBoECA0ChAYBQoMAoUGA0CBAaBAgNAgQGgQIDQKEBgFCgwChQYDQIEBoECA0CBAaBAgNAoQGAUKDAKFBgNAgQGgQIDQIEBoECA0ChAYBQoMAoUGA0CBAaBAgNAgQGgQIDQKEBgFCgwChQYDQIEBoECA0CBAaBAgNAoQGAUKDAKFBgNAgQGgQIDQIEBoECA0ChAYBQoMAoUGA0CBAaBAgNAgQGgQIDQKEBgH/Aqz17Fpit9nqAAAAAElFTkSuQmCC\" y=\"-6.64\"/>\r\n   </g>\r\n  </g>\r\n </g>\r\n <defs>\r\n  <clipPath id=\"p66fcf6d1d7\">\r\n   <rect height=\"217.44\" width=\"217.44\" x=\"7.2\" y=\"7.2\"/>\r\n  </clipPath>\r\n </defs>\r\n</svg>\r\n",
      "image/png": "[encoded data removed]"
     },
     "metadata": {
      "needs_background": "light"
     }
    },
    {
     "output_type": "display_data",
     "data": {
      "text/plain": "<Figure size 432x288 with 1 Axes>",
      "image/svg+xml": "<?xml version=\"1.0\" encoding=\"utf-8\" standalone=\"no\"?>\r\n<!DOCTYPE svg PUBLIC \"-//W3C//DTD SVG 1.1//EN\"\r\n  \"http://www.w3.org/Graphics/SVG/1.1/DTD/svg11.dtd\">\r\n<!-- Created with matplotlib (https://matplotlib.org/) -->\r\n<svg height=\"231.84pt\" version=\"1.1\" viewBox=\"0 0 231.84 231.84\" width=\"231.84pt\" xmlns=\"http://www.w3.org/2000/svg\" xmlns:xlink=\"http://www.w3.org/1999/xlink\">\r\n <metadata>\r\n  <rdf:RDF xmlns:cc=\"http://creativecommons.org/ns#\" xmlns:dc=\"http://purl.org/dc/elements/1.1/\" xmlns:rdf=\"http://www.w3.org/1999/02/22-rdf-syntax-ns#\">\r\n   <cc:Work>\r\n    <dc:type rdf:resource=\"http://purl.org/dc/dcmitype/StillImage\"/>\r\n    <dc:date>2020-11-06T12:37:30.566323</dc:date>\r\n    <dc:format>image/svg+xml</dc:format>\r\n    <dc:creator>\r\n     <cc:Agent>\r\n      <dc:title>Matplotlib v3.3.2, https://matplotlib.org/</dc:title>\r\n     </cc:Agent>\r\n    </dc:creator>\r\n   </cc:Work>\r\n  </rdf:RDF>\r\n </metadata>\r\n <defs>\r\n  <style type=\"text/css\">*{stroke-linecap:butt;stroke-linejoin:round;}</style>\r\n </defs>\r\n <g id=\"figure_1\">\r\n  <g id=\"patch_1\">\r\n   <path d=\"M 0 231.84 \r\nL 231.84 231.84 \r\nL 231.84 0 \r\nL 0 0 \r\nz\r\n\" style=\"fill:none;\"/>\r\n  </g>\r\n  <g id=\"axes_1\">\r\n   <g clip-path=\"url(#p21e551b365)\">\r\n    <image height=\"218\" id=\"image06c3e7e383\" transform=\"scale(1 -1)translate(0 -218)\" width=\"218\" x=\"7.2\" xlink:href=\"data:image/png;base64,\r\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\" y=\"-6.64\"/>\r\n   </g>\r\n  </g>\r\n </g>\r\n <defs>\r\n  <clipPath id=\"p21e551b365\">\r\n   <rect height=\"217.44\" width=\"217.44\" x=\"7.2\" y=\"7.2\"/>\r\n  </clipPath>\r\n </defs>\r\n</svg>\r\n",
      "image/png": "[encoded data removed]"
     },
     "metadata": {
      "needs_background": "light"
     }
    },
    {
     "output_type": "display_data",
     "data": {
      "text/plain": "<Figure size 432x288 with 1 Axes>",
      "image/svg+xml": "<?xml version=\"1.0\" encoding=\"utf-8\" standalone=\"no\"?>\r\n<!DOCTYPE svg PUBLIC \"-//W3C//DTD SVG 1.1//EN\"\r\n  \"http://www.w3.org/Graphics/SVG/1.1/DTD/svg11.dtd\">\r\n<!-- Created with matplotlib (https://matplotlib.org/) -->\r\n<svg height=\"231.84pt\" version=\"1.1\" viewBox=\"0 0 231.84 231.84\" width=\"231.84pt\" xmlns=\"http://www.w3.org/2000/svg\" xmlns:xlink=\"http://www.w3.org/1999/xlink\">\r\n <metadata>\r\n  <rdf:RDF xmlns:cc=\"http://creativecommons.org/ns#\" xmlns:dc=\"http://purl.org/dc/elements/1.1/\" xmlns:rdf=\"http://www.w3.org/1999/02/22-rdf-syntax-ns#\">\r\n   <cc:Work>\r\n    <dc:type rdf:resource=\"http://purl.org/dc/dcmitype/StillImage\"/>\r\n    <dc:date>2020-11-06T12:37:30.637829</dc:date>\r\n    <dc:format>image/svg+xml</dc:format>\r\n    <dc:creator>\r\n     <cc:Agent>\r\n      <dc:title>Matplotlib v3.3.2, https://matplotlib.org/</dc:title>\r\n     </cc:Agent>\r\n    </dc:creator>\r\n   </cc:Work>\r\n  </rdf:RDF>\r\n </metadata>\r\n <defs>\r\n  <style type=\"text/css\">*{stroke-linecap:butt;stroke-linejoin:round;}</style>\r\n </defs>\r\n <g id=\"figure_1\">\r\n  <g id=\"patch_1\">\r\n   <path d=\"M 0 231.84 \r\nL 231.84 231.84 \r\nL 231.84 0 \r\nL 0 0 \r\nz\r\n\" style=\"fill:none;\"/>\r\n  </g>\r\n  <g id=\"axes_1\">\r\n   <g clip-path=\"url(#p3cbea30341)\">\r\n    <image height=\"218\" id=\"imagee79427fbf0\" transform=\"scale(1 -1)translate(0 -218)\" width=\"218\" x=\"7.2\" xlink:href=\"data:image/png;base64,\r\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\" y=\"-6.64\"/>\r\n   </g>\r\n  </g>\r\n </g>\r\n <defs>\r\n  <clipPath id=\"p3cbea30341\">\r\n   <rect height=\"217.44\" width=\"217.44\" x=\"7.2\" y=\"7.2\"/>\r\n  </clipPath>\r\n </defs>\r\n</svg>\r\n",
      "image/png": "[encoded data removed]"
     },
     "metadata": {
      "needs_background": "light"
     }
    }
   ],
   "source": [
    "show_image(some_digit, 0, 0)\n",
    "show_image(some_digit, -5, 0)\n",
    "show_image(some_digit, 5, 0)\n",
    "show_image(some_digit, 0, -5)\n",
    "show_image(some_digit, 0, 5)"
   ]
  },
  {
   "cell_type": "code",
   "execution_count": 14,
   "metadata": {},
   "outputs": [],
   "source": [
    "X_train_augmented = [image for image in X_train]\n",
    "y_train_augmented = [label for label in y_train]\n",
    "\n",
    "for dx, dy in ((1, 0), (-1, 0), (0, 1), (0, -1)):\n",
    "    for image, label in zip(X_train, y_train):\n",
    "        reshaped_shifted_image, shifted_image = shift_image(image, dx, dy)\n",
    "        X_train_augmented.append(shifted_image)\n",
    "        y_train_augmented.append(label)\n",
    "\n",
    "X_train_augmented = np.array(X_train_augmented)\n",
    "y_train_augmented = np.array(y_train_augmented)"
   ]
  },
  {
   "cell_type": "code",
   "execution_count": 15,
   "metadata": {},
   "outputs": [],
   "source": [
    "shuffle_idx = np.random.permutation(len(X_train_augmented))\n",
    "X_train_augmented = X_train_augmented[shuffle_idx]\n",
    "y_train_augmented = y_train_augmented[shuffle_idx]"
   ]
  },
  {
   "source": [
    "# k-nearest neighbors"
   ],
   "cell_type": "markdown",
   "metadata": {}
  },
  {
   "cell_type": "code",
   "execution_count": 16,
   "metadata": {},
   "outputs": [
    {
     "output_type": "execute_result",
     "data": {
      "text/plain": [
       "KNeighborsClassifier(n_neighbors=4, weights='distance')"
      ]
     },
     "metadata": {},
     "execution_count": 16
    }
   ],
   "source": [
    "from sklearn.neighbors import KNeighborsClassifier\n",
    "\n",
    "knn_clf = KNeighborsClassifier(n_neighbors=4, weights='distance')\n",
    "knn_clf.fit(X_train_augmented, y_train_augmented)"
   ]
  },
  {
   "cell_type": "code",
   "execution_count": 17,
   "metadata": {},
   "outputs": [
    {
     "output_type": "execute_result",
     "data": {
      "text/plain": [
       "0.9763"
      ]
     },
     "metadata": {},
     "execution_count": 17
    }
   ],
   "source": [
    "from sklearn.metrics import accuracy_score\n",
    "\n",
    "y_pred = knn_clf.predict(X_test)\n",
    "accuracy_score(y_test, y_pred)"
   ]
  }
 ]
}